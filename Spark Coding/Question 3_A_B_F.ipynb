{
 "cells": [
  {
   "cell_type": "markdown",
   "metadata": {},
   "source": [
    "### Question 3"
   ]
  },
  {
   "cell_type": "markdown",
   "metadata": {},
   "source": [
    "<b>a)</b> To read dataset in a json file and load into Spark DataFrame, I use <b>spark.read.json('<em>path to file</em>')</b>. This code will return Spark DataFrame of dataset which is read from json file."
   ]
  },
  {
   "cell_type": "code",
   "execution_count": 1,
   "metadata": {},
   "outputs": [],
   "source": [
    "sdf = spark.read.json('movies.json')"
   ]
  },
  {
   "cell_type": "markdown",
   "metadata": {},
   "source": [
    "I use <b>printSchema()</b> method of Spark DataFrame to print out the schema of DataFrame."
   ]
  },
  {
   "cell_type": "code",
   "execution_count": 2,
   "metadata": {},
   "outputs": [
    {
     "name": "stdout",
     "output_type": "stream",
     "text": [
      "root\n",
      " |-- cast: array (nullable = true)\n",
      " |    |-- element: string (containsNull = true)\n",
      " |-- genres: array (nullable = true)\n",
      " |    |-- element: string (containsNull = true)\n",
      " |-- title: string (nullable = true)\n",
      " |-- year: long (nullable = true)\n",
      "\n"
     ]
    }
   ],
   "source": [
    "sdf.printSchema()"
   ]
  },
  {
   "cell_type": "markdown",
   "metadata": {},
   "source": [
    "As we see above:\n",
    "+ <b>'cast'</b> column has array type and can have null value. Each element in this array has string type or null.\n",
    "+ <b>'genres'</b> column has array type and can have null value. Each element in this array has string type or null.\n",
    "+ <b>'title'</b> column has string type and can have null value.\n",
    "+ <b>'year'</b> column has string type and can have null value."
   ]
  },
  {
   "cell_type": "markdown",
   "metadata": {},
   "source": [
    "I use <b>count()</b> method of Spark DataFrame to count number of records in DataFrame."
   ]
  },
  {
   "cell_type": "code",
   "execution_count": 3,
   "metadata": {},
   "outputs": [
    {
     "data": {
      "text/plain": [
       "28795"
      ]
     },
     "execution_count": 3,
     "metadata": {},
     "output_type": "execute_result"
    }
   ],
   "source": [
    "sdf.count()"
   ]
  },
  {
   "cell_type": "markdown",
   "metadata": {},
   "source": [
    "As we see above, DataFrame has 28795 records."
   ]
  },
  {
   "cell_type": "markdown",
   "metadata": {},
   "source": [
    "<b> b) To see the number of movies released during 2012 and 2015: </b>  \n",
    "<b>Step 1</b>: I will select year field with <b>select('<em>field name</em>')</b> method of Spark DataFrame. This method will return Spark DataFrame of year field. After that, I use <b>show()</b> method of Spark DataFrame to show the year DataFrame."
   ]
  },
  {
   "cell_type": "code",
   "execution_count": 4,
   "metadata": {},
   "outputs": [
    {
     "name": "stdout",
     "output_type": "stream",
     "text": [
      "+----+\n",
      "|year|\n",
      "+----+\n",
      "|1900|\n",
      "|1900|\n",
      "|1900|\n",
      "|1900|\n",
      "|1900|\n",
      "|1900|\n",
      "|1900|\n",
      "|1900|\n",
      "|1900|\n",
      "|1900|\n",
      "|1900|\n",
      "|1900|\n",
      "|1900|\n",
      "|1900|\n",
      "|1900|\n",
      "|1900|\n",
      "|1900|\n",
      "|1901|\n",
      "|1901|\n",
      "|1901|\n",
      "+----+\n",
      "only showing top 20 rows\n",
      "\n"
     ]
    }
   ],
   "source": [
    "year_df = sdf.select(\"year\")\n",
    "year_df.show()"
   ]
  },
  {
   "cell_type": "markdown",
   "metadata": {},
   "source": [
    "<b>Step 2</b>: In year DataFrame, I filter movies released from 2012 to 2015 with <b>filter('SQL Expression string')</b> method of Spark DataFrame. This method return DataFrame after filtering. After that, I use <b>show()</b> method of Spark DataFrame to show the filtered year DataFrame"
   ]
  },
  {
   "cell_type": "code",
   "execution_count": 5,
   "metadata": {},
   "outputs": [
    {
     "name": "stdout",
     "output_type": "stream",
     "text": [
      "+----+\n",
      "|year|\n",
      "+----+\n",
      "|2012|\n",
      "|2012|\n",
      "|2012|\n",
      "|2012|\n",
      "|2012|\n",
      "|2012|\n",
      "|2012|\n",
      "|2012|\n",
      "|2012|\n",
      "|2012|\n",
      "|2012|\n",
      "|2012|\n",
      "|2012|\n",
      "|2012|\n",
      "|2012|\n",
      "|2012|\n",
      "|2012|\n",
      "|2012|\n",
      "|2012|\n",
      "|2012|\n",
      "+----+\n",
      "only showing top 20 rows\n",
      "\n"
     ]
    }
   ],
   "source": [
    "filtered_year_df = year_df.filter('year >= 2012 AND year <= 2015')\n",
    "filtered_year_df.show()"
   ]
  },
  {
   "cell_type": "markdown",
   "metadata": {},
   "source": [
    "<b>Step 3</b>: I use <b>count()</b> method of Spark DataFrame to count number of records in filtered year DataFrame."
   ]
  },
  {
   "cell_type": "code",
   "execution_count": 6,
   "metadata": {},
   "outputs": [
    {
     "data": {
      "text/plain": [
       "1015"
      ]
     },
     "execution_count": 6,
     "metadata": {},
     "output_type": "execute_result"
    }
   ],
   "source": [
    "filtered_year_df.count()"
   ]
  },
  {
   "cell_type": "markdown",
   "metadata": {},
   "source": [
    "As we see above, having 1015 movies which are released from 2012 to 2015."
   ]
  },
  {
   "cell_type": "markdown",
   "metadata": {},
   "source": [
    "<b>f)</b>"
   ]
  },
  {
   "cell_type": "code",
   "execution_count": 7,
   "metadata": {},
   "outputs": [],
   "source": [
    "from pyspark.sql.functions import explode, explode_outer, desc, countDistinct"
   ]
  },
  {
   "cell_type": "markdown",
   "metadata": {},
   "source": [
    "Note:\n",
    "+ Why I use explode, explode_outer function in pyspark sql functions: Because <b>'cast'</b> column and <b>'genres'</b> column have type array, I want to convert it to rows for being easy to work with names of actors and genres of all movies they participated.  \n",
    "+ desc function to sort column descending\n",
    "+ countDistinct function to count distinct value in column"
   ]
  },
  {
   "cell_type": "code",
   "execution_count": 8,
   "metadata": {},
   "outputs": [],
   "source": [
    "explode_df = sdf.select(explode(\"cast\").alias(\"actor name\"), \"genres\")"
   ]
  },
  {
   "cell_type": "markdown",
   "metadata": {},
   "source": [
    "Note:\n",
    "+ Function <b>explode(\"<em>name of column wants to be exploded</em>\")</b> will return the column contains rows which are converted from each array in column you choose. This function also ignores empty array or null value. \n",
    "+ Here I use <b>select()</b> method to create DataFrame which contains <b>'genres'</b> column and <b>'actor name'</b> column (column contains actor names which are converted from each array in <b>'cast'</b> column)."
   ]
  },
  {
   "cell_type": "code",
   "execution_count": 9,
   "metadata": {},
   "outputs": [
    {
     "name": "stdout",
     "output_type": "stream",
     "text": [
      "+------------------+--------------------+\n",
      "|        actor name|              genres|\n",
      "+------------------+--------------------+\n",
      "|       Paul Boyton|                  []|\n",
      "|    Ching Ling Foo|             [Short]|\n",
      "|         May Clark|                  []|\n",
      "|William Carrington|                  []|\n",
      "|J. Stuart Blackton|[Short, Crime, Dr...|\n",
      "| Florence Lawrence|[Short, Crime, Dr...|\n",
      "|J. Stuart Blackton|[Short, Animated,...|\n",
      "|   William S. Hart|        [Historical]|\n",
      "|    William Craven|         [Biography]|\n",
      "| Florence Lawrence|         [Biography]|\n",
      "|           Unknown|            [Comedy]|\n",
      "|   Bertha Regustus|            [Comedy]|\n",
      "|    Edward Boulden|            [Comedy]|\n",
      "| Arthur V. Johnson|             [Drama]|\n",
      "|    Linda Arvidson|             [Drama]|\n",
      "| Florence Lawrence|                  []|\n",
      "| William V. Ranous|                  []|\n",
      "|    Linda Arvidson|            [Comedy]|\n",
      "|   George Gebhardt|            [Comedy]|\n",
      "|    Charles Inslee|             [Drama]|\n",
      "+------------------+--------------------+\n",
      "only showing top 20 rows\n",
      "\n"
     ]
    }
   ],
   "source": [
    "explode_df.show()"
   ]
  },
  {
   "cell_type": "code",
   "execution_count": 10,
   "metadata": {},
   "outputs": [],
   "source": [
    "explode_df = explode_df.select(\"actor name\", explode_outer(\"genres\").alias(\"genres\"))"
   ]
  },
  {
   "cell_type": "markdown",
   "metadata": {},
   "source": [
    "Note:\n",
    "+ Function <b>explode_outer(\"<em>name of column wants to be exploded</em>\")</b> will return the column contains rows which are converted from each array in column you choose.\n",
    "+ Why I not choose <b>explode()</b> function as I do with <b>'actor name'</b> column above: Because <b>explode_outer()</b> function does not ignore the emtpy array but returns null value. The actor cannot participate any genres of movies so if we ignore actors who do not participate any genres of movies, sorting will false.\n",
    "+ Here I use <b>select()</b> method for previous explode DataFrame to create DataFrame which contains <b>'actor name'</b> column and <b>'genres'</b> column (column contains genres which are converted from each array in <b>'genres'</b> column)."
   ]
  },
  {
   "cell_type": "code",
   "execution_count": 11,
   "metadata": {},
   "outputs": [
    {
     "name": "stdout",
     "output_type": "stream",
     "text": [
      "+------------------+----------+\n",
      "|        actor name|    genres|\n",
      "+------------------+----------+\n",
      "|       Paul Boyton|      null|\n",
      "|    Ching Ling Foo|     Short|\n",
      "|         May Clark|      null|\n",
      "|William Carrington|      null|\n",
      "|J. Stuart Blackton|     Short|\n",
      "|J. Stuart Blackton|     Crime|\n",
      "|J. Stuart Blackton|     Drama|\n",
      "| Florence Lawrence|     Short|\n",
      "| Florence Lawrence|     Crime|\n",
      "| Florence Lawrence|     Drama|\n",
      "|J. Stuart Blackton|     Short|\n",
      "|J. Stuart Blackton|  Animated|\n",
      "|J. Stuart Blackton|  Animated|\n",
      "|   William S. Hart|Historical|\n",
      "|    William Craven| Biography|\n",
      "| Florence Lawrence| Biography|\n",
      "|           Unknown|    Comedy|\n",
      "|   Bertha Regustus|    Comedy|\n",
      "|    Edward Boulden|    Comedy|\n",
      "| Arthur V. Johnson|     Drama|\n",
      "+------------------+----------+\n",
      "only showing top 20 rows\n",
      "\n"
     ]
    }
   ],
   "source": [
    "explode_df.show()"
   ]
  },
  {
   "cell_type": "markdown",
   "metadata": {},
   "source": [
    "Using <b>groupby(\"<em>column name</em>\")</b> method of Spark DataFrame to group DataFrame by column. This method will return GroupedData object.  \n",
    "Using <b>agg()</b> method of GroupedData object with <b>countDistinct(\"<em>column name</em>\")</b> function of <b>agg()</b> method to count distint value in one column after group DataFrame by column."
   ]
  },
  {
   "cell_type": "code",
   "execution_count": 12,
   "metadata": {},
   "outputs": [
    {
     "name": "stdout",
     "output_type": "stream",
     "text": [
      "+-----------------+-------------+\n",
      "|       actor name|count(genres)|\n",
      "+-----------------+-------------+\n",
      "|     Jean Durrell|            1|\n",
      "|     Edmund Burns|            5|\n",
      "|    Peggy Stewart|            6|\n",
      "| Laurence Olivier|           12|\n",
      "|      Tura Satana|            1|\n",
      "|      The Weavers|            1|\n",
      "|       Gale Storm|            9|\n",
      "|    Reggie Miller|            3|\n",
      "|   Caroline Munro|            4|\n",
      "|     Stephen Root|           11|\n",
      "| Christine Carère|            1|\n",
      "|     Teddy Geiger|            1|\n",
      "|     Oliver Platt|           12|\n",
      "|Geraldine Chaplin|            8|\n",
      "| Bradford Dillman|            7|\n",
      "|   Keir Gilchrist|            3|\n",
      "|       Snoop Dogg|           10|\n",
      "| Derrick O'Connor|            1|\n",
      "|       Lex Barker|            5|\n",
      "|   James Faulkner|            4|\n",
      "+-----------------+-------------+\n",
      "only showing top 20 rows\n",
      "\n"
     ]
    }
   ],
   "source": [
    "count_df = explode_df.groupby(\"actor name\").agg(countDistinct(\"genres\"))\n",
    "count_df.show()"
   ]
  },
  {
   "cell_type": "markdown",
   "metadata": {},
   "source": [
    "Use <b>sort(desc(\"<em>column need to be sorted</em>\"))</b> to sort Spark DataFrame descending following column."
   ]
  },
  {
   "cell_type": "code",
   "execution_count": 13,
   "metadata": {},
   "outputs": [
    {
     "name": "stdout",
     "output_type": "stream",
     "text": [
      "+------------------+-------------+\n",
      "|        actor name|count(genres)|\n",
      "+------------------+-------------+\n",
      "|               and|           24|\n",
      "|      Dennis Quaid|           20|\n",
      "|     Colin Farrell|           18|\n",
      "|       James Mason|           18|\n",
      "|      Danny Glover|           18|\n",
      "|      Gene Hackman|           18|\n",
      "|      James Coburn|           18|\n",
      "|     Michael Caine|           18|\n",
      "|      Michael Peña|           18|\n",
      "|      Helen Mirren|           18|\n",
      "|      John Goodman|           17|\n",
      "|  Lionel Barrymore|           17|\n",
      "|        Matt Damon|           17|\n",
      "|    Robert De Niro|           17|\n",
      "|     James Stewart|           17|\n",
      "|Laurence Fishburne|           17|\n",
      "| Samuel L. Jackson|           17|\n",
      "|    George Sanders|           17|\n",
      "|     Nicole Kidman|           17|\n",
      "|       Johnny Depp|           17|\n",
      "+------------------+-------------+\n",
      "only showing top 20 rows\n",
      "\n"
     ]
    }
   ],
   "source": [
    "count_df.sort(desc(\"count(genres)\")).show()"
   ]
  },
  {
   "cell_type": "markdown",
   "metadata": {},
   "source": []
  }
 ],
 "metadata": {
  "kernelspec": {
   "display_name": "Python 3",
   "language": "python",
   "name": "python3"
  },
  "language_info": {
   "codemirror_mode": {
    "name": "ipython",
    "version": 3
   },
   "file_extension": ".py",
   "mimetype": "text/x-python",
   "name": "python",
   "nbconvert_exporter": "python",
   "pygments_lexer": "ipython3",
   "version": "3.7.6"
  }
 },
 "nbformat": 4,
 "nbformat_minor": 4
}
