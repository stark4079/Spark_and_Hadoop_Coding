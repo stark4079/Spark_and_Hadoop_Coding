{
 "cells": [
  {
   "cell_type": "markdown",
   "metadata": {},
   "source": [
    "- Question 3. Consider the dataset movies.json, which is attached in the submission link. Each record stores the information of a movies: name, year of release, list of actors and list of genres. Write a PySpark application that uses RDD/DataFrame to fulfill the following requirements.\n",
    "    - a. Read the dataset to a DataFrame. Print out the schema and the number of records.\n",
    "    - b. Print out the number of movies released during 2012 and 2015 (included)\n",
    "    - c. Print out the number of actors (distinct) available in the dataset\n",
    "    - d. Show the year that has the highest number of movies released\n",
    "    - e. List all movies whose names contain the word “superman” (case-insensitive). Identify the number of genres that these movies are categorized to\n",
    "    - f. Sort the names of actors in descending order of the total number of genres of all movies that they participated"
   ]
  },
  {
   "cell_type": "code",
   "execution_count": 1,
   "metadata": {},
   "outputs": [],
   "source": [
    "import findspark\n",
    "findspark.init(\"D:\\spark\\spark-3.1.1-bin-hadoop3.2\")\n",
    "import pyspark\n",
    "from pyspark.sql import SparkSession\n",
    "from pyspark.sql.functions import size\n",
    "from pyspark.sql.functions import max, col\n",
    "\n",
    "spark = SparkSession.builder.getOrCreate()"
   ]
  },
  {
   "cell_type": "markdown",
   "metadata": {},
   "source": [
    "#### Load the moives.json into dataframe df"
   ]
  },
  {
   "cell_type": "code",
   "execution_count": 2,
   "metadata": {},
   "outputs": [
    {
     "name": "stdout",
     "output_type": "stream",
     "text": [
      "root\n",
      " |-- cast: array (nullable = true)\n",
      " |    |-- element: string (containsNull = true)\n",
      " |-- genres: array (nullable = true)\n",
      " |    |-- element: string (containsNull = true)\n",
      " |-- title: string (nullable = true)\n",
      " |-- year: long (nullable = true)\n",
      "\n"
     ]
    },
    {
     "data": {
      "text/html": [
       "<table border='1'>\n",
       "<tr><th>cast</th><th>genres</th><th>title</th><th>year</th></tr>\n",
       "<tr><td>[]</td><td>[]</td><td>After Dark in Cen...</td><td>1900</td></tr>\n",
       "<tr><td>[]</td><td>[]</td><td>Boarding School G...</td><td>1900</td></tr>\n",
       "<tr><td>[]</td><td>[]</td><td>Buffalo Bill&#x27;s Wi...</td><td>1900</td></tr>\n",
       "<tr><td>[]</td><td>[]</td><td>Caught</td><td>1900</td></tr>\n",
       "<tr><td>[]</td><td>[]</td><td>Clowns Spinning Hats</td><td>1900</td></tr>\n",
       "<tr><td>[]</td><td>[Short, Documentary]</td><td>Capture of Boer B...</td><td>1900</td></tr>\n",
       "<tr><td>[]</td><td>[]</td><td>The Enchanted Dra...</td><td>1900</td></tr>\n",
       "<tr><td>[Paul Boyton]</td><td>[]</td><td>Feeding Sea Lions</td><td>1900</td></tr>\n",
       "<tr><td>[]</td><td>[Comedy]</td><td>How to Make a Fat...</td><td>1900</td></tr>\n",
       "<tr><td>[]</td><td>[]</td><td>New Life Rescue</td><td>1900</td></tr>\n",
       "<tr><td>[]</td><td>[]</td><td>New Morning Bath</td><td>1900</td></tr>\n",
       "<tr><td>[]</td><td>[]</td><td>Searching Ruins o...</td><td>1900</td></tr>\n",
       "<tr><td>[]</td><td>[]</td><td>The Tribulations ...</td><td>1900</td></tr>\n",
       "<tr><td>[]</td><td>[Comedy]</td><td>Trouble in Hogan&#x27;...</td><td>1900</td></tr>\n",
       "<tr><td>[]</td><td>[Short]</td><td>Two Old Sparks</td><td>1900</td></tr>\n",
       "<tr><td>[Ching Ling Foo]</td><td>[Short]</td><td>The Wonder, Ching...</td><td>1900</td></tr>\n",
       "<tr><td>[]</td><td>[Short]</td><td>Watermelon Contest</td><td>1900</td></tr>\n",
       "<tr><td>[]</td><td>[]</td><td>Acrobats in Cairo</td><td>1901</td></tr>\n",
       "<tr><td>[]</td><td>[]</td><td>An Affair of Honor</td><td>1901</td></tr>\n",
       "<tr><td>[]</td><td>[]</td><td>Another Job for t...</td><td>1901</td></tr>\n",
       "</table>\n",
       "only showing top 20 rows\n"
      ],
      "text/plain": [
       "+----------------+--------------------+--------------------+----+\n",
       "|            cast|              genres|               title|year|\n",
       "+----------------+--------------------+--------------------+----+\n",
       "|              []|                  []|After Dark in Cen...|1900|\n",
       "|              []|                  []|Boarding School G...|1900|\n",
       "|              []|                  []|Buffalo Bill's Wi...|1900|\n",
       "|              []|                  []|              Caught|1900|\n",
       "|              []|                  []|Clowns Spinning Hats|1900|\n",
       "|              []|[Short, Documentary]|Capture of Boer B...|1900|\n",
       "|              []|                  []|The Enchanted Dra...|1900|\n",
       "|   [Paul Boyton]|                  []|   Feeding Sea Lions|1900|\n",
       "|              []|            [Comedy]|How to Make a Fat...|1900|\n",
       "|              []|                  []|     New Life Rescue|1900|\n",
       "|              []|                  []|    New Morning Bath|1900|\n",
       "|              []|                  []|Searching Ruins o...|1900|\n",
       "|              []|                  []|The Tribulations ...|1900|\n",
       "|              []|            [Comedy]|Trouble in Hogan'...|1900|\n",
       "|              []|             [Short]|      Two Old Sparks|1900|\n",
       "|[Ching Ling Foo]|             [Short]|The Wonder, Ching...|1900|\n",
       "|              []|             [Short]|  Watermelon Contest|1900|\n",
       "|              []|                  []|   Acrobats in Cairo|1901|\n",
       "|              []|                  []|  An Affair of Honor|1901|\n",
       "|              []|                  []|Another Job for t...|1901|\n",
       "+----------------+--------------------+--------------------+----+\n",
       "only showing top 20 rows"
      ]
     },
     "execution_count": 2,
     "metadata": {},
     "output_type": "execute_result"
    }
   ],
   "source": [
    "df = spark.read.json(\"movies.json\")\n",
    "df.printSchema()\n",
    "spark.conf.set('spark.sql.repl.eagerEval.enabled', True)\n",
    "df"
   ]
  },
  {
   "cell_type": "markdown",
   "metadata": {},
   "source": [
    "#### c. Print out the number of actors (distinct) available in the dataset"
   ]
  },
  {
   "cell_type": "markdown",
   "metadata": {},
   "source": [
    "- Using select function to select to column \"cast\" with the condition \"the number of actors of this movie is higher than 0\" by using the where function check the size of each cell in \"cast\" column higher than 0. Then save the result into actors."
   ]
  },
  {
   "cell_type": "code",
   "execution_count": 3,
   "metadata": {},
   "outputs": [
    {
     "data": {
      "text/html": [
       "<table border='1'>\n",
       "<tr><th>cast</th></tr>\n",
       "<tr><td>[Paul Boyton]</td></tr>\n",
       "<tr><td>[Ching Ling Foo]</td></tr>\n",
       "<tr><td>[May Clark]</td></tr>\n",
       "<tr><td>[William Carrington]</td></tr>\n",
       "<tr><td>[J. Stuart Blackt...</td></tr>\n",
       "<tr><td>[J. Stuart Blackton]</td></tr>\n",
       "<tr><td>[William S. Hart]</td></tr>\n",
       "<tr><td>[William Craven, ...</td></tr>\n",
       "<tr><td>[Unknown]</td></tr>\n",
       "<tr><td>[Bertha Regustus,...</td></tr>\n",
       "<tr><td>[Arthur V. Johnso...</td></tr>\n",
       "<tr><td>[Florence Lawrenc...</td></tr>\n",
       "<tr><td>[Linda Arvidson, ...</td></tr>\n",
       "<tr><td>[Charles Inslee, ...</td></tr>\n",
       "<tr><td>[D. W. Griffith]</td></tr>\n",
       "<tr><td>[Harry Solter, Li...</td></tr>\n",
       "<tr><td>[Charles Inslee]</td></tr>\n",
       "<tr><td>[Tom Ricketts]</td></tr>\n",
       "<tr><td>[Edward Dillon, D...</td></tr>\n",
       "<tr><td>[Hobart Bosworth,...</td></tr>\n",
       "</table>\n",
       "only showing top 20 rows\n"
      ],
      "text/plain": [
       "+--------------------+\n",
       "|                cast|\n",
       "+--------------------+\n",
       "|       [Paul Boyton]|\n",
       "|    [Ching Ling Foo]|\n",
       "|         [May Clark]|\n",
       "|[William Carrington]|\n",
       "|[J. Stuart Blackt...|\n",
       "|[J. Stuart Blackton]|\n",
       "|   [William S. Hart]|\n",
       "|[William Craven, ...|\n",
       "|           [Unknown]|\n",
       "|[Bertha Regustus,...|\n",
       "|[Arthur V. Johnso...|\n",
       "|[Florence Lawrenc...|\n",
       "|[Linda Arvidson, ...|\n",
       "|[Charles Inslee, ...|\n",
       "|    [D. W. Griffith]|\n",
       "|[Harry Solter, Li...|\n",
       "|    [Charles Inslee]|\n",
       "|      [Tom Ricketts]|\n",
       "|[Edward Dillon, D...|\n",
       "|[Hobart Bosworth,...|\n",
       "+--------------------+\n",
       "only showing top 20 rows"
      ]
     },
     "execution_count": 3,
     "metadata": {},
     "output_type": "execute_result"
    }
   ],
   "source": [
    "actors = df.select(\"cast\").where(size(df.cast) > 0)\n",
    "actors"
   ]
  },
  {
   "cell_type": "markdown",
   "metadata": {},
   "source": [
    "- Collecting the data of each cell in \"cast\" column then save it into all_ActorsOfData\n",
    "- Creating an array all_ActorsOfData to save each actor that participated to each movie.\n",
    "- Using dict.formkeys to get all distinct names from array all_ActorsOfData then save it into distinct_actors."
   ]
  },
  {
   "cell_type": "code",
   "execution_count": 4,
   "metadata": {},
   "outputs": [
    {
     "name": "stdout",
     "output_type": "stream",
     "text": [
      "Number of actors (distinct) available in the dataset:  15531\n"
     ]
    }
   ],
   "source": [
    "all_ActorsOfData = actors.select(\"cast\").collect()\n",
    "all_ActorsOfData = [actor for actorsOfMovie in all_ActorsOfData for actor in actorsOfMovie.cast]\n",
    "distinct_actors = list(dict.fromkeys(all_ActorsOfData))\n",
    "\n",
    "print(\"Number of actors (distinct) available in the dataset: \", len(distinct_actors))"
   ]
  },
  {
   "cell_type": "markdown",
   "metadata": {},
   "source": [
    "- Additionally, we can use the explode function to extract the array of actors of each movie into a new column \"samples\".\n",
    "- Then, we count the distinct actors from the column \"samples\""
   ]
  },
  {
   "cell_type": "code",
   "execution_count": 5,
   "metadata": {},
   "outputs": [
    {
     "data": {
      "text/html": [
       "<table border='1'>\n",
       "<tr><th>cast</th><th>samples</th></tr>\n",
       "<tr><td>[Paul Boyton]</td><td>Paul Boyton</td></tr>\n",
       "<tr><td>[Ching Ling Foo]</td><td>Ching Ling Foo</td></tr>\n",
       "<tr><td>[May Clark]</td><td>May Clark</td></tr>\n",
       "<tr><td>[William Carrington]</td><td>William Carrington</td></tr>\n",
       "<tr><td>[J. Stuart Blackt...</td><td>J. Stuart Blackton</td></tr>\n",
       "<tr><td>[J. Stuart Blackt...</td><td>Florence Lawrence</td></tr>\n",
       "<tr><td>[J. Stuart Blackton]</td><td>J. Stuart Blackton</td></tr>\n",
       "<tr><td>[William S. Hart]</td><td>William S. Hart</td></tr>\n",
       "<tr><td>[William Craven, ...</td><td>William Craven</td></tr>\n",
       "<tr><td>[William Craven, ...</td><td>Florence Lawrence</td></tr>\n",
       "<tr><td>[Unknown]</td><td>Unknown</td></tr>\n",
       "<tr><td>[Bertha Regustus,...</td><td>Bertha Regustus</td></tr>\n",
       "<tr><td>[Bertha Regustus,...</td><td>Edward Boulden</td></tr>\n",
       "<tr><td>[Arthur V. Johnso...</td><td>Arthur V. Johnson</td></tr>\n",
       "<tr><td>[Arthur V. Johnso...</td><td>Linda Arvidson</td></tr>\n",
       "<tr><td>[Florence Lawrenc...</td><td>Florence Lawrence</td></tr>\n",
       "<tr><td>[Florence Lawrenc...</td><td>William V. Ranous</td></tr>\n",
       "<tr><td>[Linda Arvidson, ...</td><td>Linda Arvidson</td></tr>\n",
       "<tr><td>[Linda Arvidson, ...</td><td>George Gebhardt</td></tr>\n",
       "<tr><td>[Charles Inslee, ...</td><td>Charles Inslee</td></tr>\n",
       "</table>\n",
       "only showing top 20 rows\n"
      ],
      "text/plain": [
       "+--------------------+------------------+\n",
       "|                cast|           samples|\n",
       "+--------------------+------------------+\n",
       "|       [Paul Boyton]|       Paul Boyton|\n",
       "|    [Ching Ling Foo]|    Ching Ling Foo|\n",
       "|         [May Clark]|         May Clark|\n",
       "|[William Carrington]|William Carrington|\n",
       "|[J. Stuart Blackt...|J. Stuart Blackton|\n",
       "|[J. Stuart Blackt...| Florence Lawrence|\n",
       "|[J. Stuart Blackton]|J. Stuart Blackton|\n",
       "|   [William S. Hart]|   William S. Hart|\n",
       "|[William Craven, ...|    William Craven|\n",
       "|[William Craven, ...| Florence Lawrence|\n",
       "|           [Unknown]|           Unknown|\n",
       "|[Bertha Regustus,...|   Bertha Regustus|\n",
       "|[Bertha Regustus,...|    Edward Boulden|\n",
       "|[Arthur V. Johnso...| Arthur V. Johnson|\n",
       "|[Arthur V. Johnso...|    Linda Arvidson|\n",
       "|[Florence Lawrenc...| Florence Lawrence|\n",
       "|[Florence Lawrenc...| William V. Ranous|\n",
       "|[Linda Arvidson, ...|    Linda Arvidson|\n",
       "|[Linda Arvidson, ...|   George Gebhardt|\n",
       "|[Charles Inslee, ...|    Charles Inslee|\n",
       "+--------------------+------------------+\n",
       "only showing top 20 rows"
      ]
     },
     "execution_count": 5,
     "metadata": {},
     "output_type": "execute_result"
    }
   ],
   "source": [
    "from pyspark.sql.functions import explode\n",
    "\n",
    "all_ActorsOfData1 = actors.select(\"cast\", explode(\"cast\").alias(\"samples\"))\n",
    "\n",
    "distinct_actors1 = all_ActorsOfData1.select(\"samples\").distinct().count()\n",
    "all_ActorsOfData1"
   ]
  },
  {
   "cell_type": "code",
   "execution_count": 6,
   "metadata": {},
   "outputs": [
    {
     "name": "stdout",
     "output_type": "stream",
     "text": [
      "Number of actors (distinct) available in the dataset:  15531\n"
     ]
    }
   ],
   "source": [
    "print(\"Number of actors (distinct) available in the dataset: \", distinct_actors1)"
   ]
  },
  {
   "cell_type": "markdown",
   "metadata": {},
   "source": [
    "#### d. Show the year that has the highest number of movies released"
   ]
  },
  {
   "cell_type": "markdown",
   "metadata": {},
   "source": [
    "- Using groupBy function by year and count the number of movies released of that year."
   ]
  },
  {
   "cell_type": "code",
   "execution_count": 7,
   "metadata": {},
   "outputs": [],
   "source": [
    "year_data = df.groupBy(\"year\").count()"
   ]
  },
  {
   "cell_type": "code",
   "execution_count": 8,
   "metadata": {},
   "outputs": [
    {
     "data": {
      "text/html": [
       "<table border='1'>\n",
       "<tr><th>year</th><th>count</th></tr>\n",
       "<tr><td>1950</td><td>443</td></tr>\n",
       "<tr><td>1919</td><td>634</td></tr>\n",
       "<tr><td>1936</td><td>504</td></tr>\n",
       "<tr><td>1951</td><td>429</td></tr>\n",
       "<tr><td>1958</td><td>281</td></tr>\n",
       "<tr><td>1921</td><td>143</td></tr>\n",
       "<tr><td>1983</td><td>140</td></tr>\n",
       "<tr><td>1905</td><td>35</td></tr>\n",
       "<tr><td>1972</td><td>140</td></tr>\n",
       "<tr><td>1979</td><td>139</td></tr>\n",
       "<tr><td>2007</td><td>304</td></tr>\n",
       "<tr><td>1988</td><td>292</td></tr>\n",
       "<tr><td>2014</td><td>214</td></tr>\n",
       "<tr><td>1908</td><td>18</td></tr>\n",
       "<tr><td>1986</td><td>192</td></tr>\n",
       "<tr><td>1949</td><td>351</td></tr>\n",
       "<tr><td>1930</td><td>361</td></tr>\n",
       "<tr><td>1969</td><td>137</td></tr>\n",
       "<tr><td>1964</td><td>151</td></tr>\n",
       "<tr><td>1967</td><td>127</td></tr>\n",
       "</table>\n",
       "only showing top 20 rows\n"
      ],
      "text/plain": [
       "+----+-----+\n",
       "|year|count|\n",
       "+----+-----+\n",
       "|1950|  443|\n",
       "|1919|  634|\n",
       "|1936|  504|\n",
       "|1951|  429|\n",
       "|1958|  281|\n",
       "|1921|  143|\n",
       "|1983|  140|\n",
       "|1905|   35|\n",
       "|1972|  140|\n",
       "|1979|  139|\n",
       "|2007|  304|\n",
       "|1988|  292|\n",
       "|2014|  214|\n",
       "|1908|   18|\n",
       "|1986|  192|\n",
       "|1949|  351|\n",
       "|1930|  361|\n",
       "|1969|  137|\n",
       "|1964|  151|\n",
       "|1967|  127|\n",
       "+----+-----+\n",
       "only showing top 20 rows"
      ]
     },
     "execution_count": 8,
     "metadata": {},
     "output_type": "execute_result"
    }
   ],
   "source": [
    "year_data"
   ]
  },
  {
   "cell_type": "markdown",
   "metadata": {},
   "source": [
    "- Find the maximum number of movies realeased of the year_data then get that number saved it into tmp variable."
   ]
  },
  {
   "cell_type": "code",
   "execution_count": 9,
   "metadata": {},
   "outputs": [
    {
     "data": {
      "text/plain": [
       "634"
      ]
     },
     "execution_count": 9,
     "metadata": {},
     "output_type": "execute_result"
    }
   ],
   "source": [
    "result = year_data.select(max(\"count\"))\n",
    "tmp = result.collect()[0]['max(count)']\n",
    "tmp"
   ]
  },
  {
   "cell_type": "markdown",
   "metadata": {},
   "source": [
    "- Using filter function to filter all the year had the exactly maximum movies released."
   ]
  },
  {
   "cell_type": "code",
   "execution_count": 10,
   "metadata": {},
   "outputs": [
    {
     "data": {
      "text/html": [
       "<table border='1'>\n",
       "<tr><th>year</th><th>count</th></tr>\n",
       "<tr><td>1919</td><td>634</td></tr>\n",
       "</table>\n"
      ],
      "text/plain": [
       "+----+-----+\n",
       "|year|count|\n",
       "+----+-----+\n",
       "|1919|  634|\n",
       "+----+-----+"
      ]
     },
     "execution_count": 10,
     "metadata": {},
     "output_type": "execute_result"
    }
   ],
   "source": [
    "year_data.filter(col(\"count\") == tmp)"
   ]
  },
  {
   "cell_type": "markdown",
   "metadata": {},
   "source": [
    "#### e. List all movies whose names contain the word “superman” (case-insensitive). Identify the number of genres that these movies are categorized to"
   ]
  },
  {
   "cell_type": "markdown",
   "metadata": {},
   "source": [
    "- Using filter function to filter all the title of movie has the word \"supper man\" by using rlike function passed by the regex formular (?i) makes that title match case insensitive"
   ]
  },
  {
   "cell_type": "code",
   "execution_count": 11,
   "metadata": {},
   "outputs": [],
   "source": [
    "movie_data = df.filter(df.title.rlike(\"(?i)superman\"))"
   ]
  },
  {
   "cell_type": "code",
   "execution_count": 12,
   "metadata": {},
   "outputs": [
    {
     "data": {
      "text/html": [
       "<table border='1'>\n",
       "<tr><th>cast</th><th>genres</th><th>title</th><th>year</th></tr>\n",
       "<tr><td>[Kirk Alyn, Noel ...</td><td>[]</td><td>Superman</td><td>1948</td></tr>\n",
       "<tr><td>[Kirk Alyn, Lyle ...</td><td>[]</td><td>Atom Man vs. Supe...</td><td>1950</td></tr>\n",
       "<tr><td>[George Reeves, P...</td><td>[Action]</td><td>Superman and the ...</td><td>1951</td></tr>\n",
       "<tr><td>[George Reeves]</td><td>[Short]</td><td>Stamp Day for Sup...</td><td>1954</td></tr>\n",
       "<tr><td>[Marlon Brando, G...</td><td>[Superhero]</td><td>Superman</td><td>1978</td></tr>\n",
       "<tr><td>[Gene Hackman, Ch...</td><td>[Action, Adventure]</td><td>Superman II</td><td>1980</td></tr>\n",
       "<tr><td>[Christopher Reev...</td><td>[Action]</td><td>Superman III</td><td>1983</td></tr>\n",
       "<tr><td>[Christopher Reev...</td><td>[Superhero]</td><td>Superman IV: The ...</td><td>1987</td></tr>\n",
       "<tr><td>[Brandon Routh, K...</td><td>[Superhero]</td><td>Superman Returns</td><td>2006</td></tr>\n",
       "<tr><td>[The analyzation ...</td><td>[Documentary]</td><td>Waiting for Superman</td><td>2010</td></tr>\n",
       "<tr><td>[Matt Bomer, Stan...</td><td>[Animated, Superh...</td><td>Superman: Unbound</td><td>2013</td></tr>\n",
       "<tr><td>[Henry Cavill, Be...</td><td>[Action]</td><td>Batman v Superman...</td><td>2016</td></tr>\n",
       "</table>\n"
      ],
      "text/plain": [
       "+--------------------+--------------------+--------------------+----+\n",
       "|                cast|              genres|               title|year|\n",
       "+--------------------+--------------------+--------------------+----+\n",
       "|[Kirk Alyn, Noel ...|                  []|            Superman|1948|\n",
       "|[Kirk Alyn, Lyle ...|                  []|Atom Man vs. Supe...|1950|\n",
       "|[George Reeves, P...|            [Action]|Superman and the ...|1951|\n",
       "|     [George Reeves]|             [Short]|Stamp Day for Sup...|1954|\n",
       "|[Marlon Brando, G...|         [Superhero]|            Superman|1978|\n",
       "|[Gene Hackman, Ch...| [Action, Adventure]|         Superman II|1980|\n",
       "|[Christopher Reev...|            [Action]|        Superman III|1983|\n",
       "|[Christopher Reev...|         [Superhero]|Superman IV: The ...|1987|\n",
       "|[Brandon Routh, K...|         [Superhero]|    Superman Returns|2006|\n",
       "|[The analyzation ...|       [Documentary]|Waiting for Superman|2010|\n",
       "|[Matt Bomer, Stan...|[Animated, Superh...|   Superman: Unbound|2013|\n",
       "|[Henry Cavill, Be...|            [Action]|Batman v Superman...|2016|\n",
       "+--------------------+--------------------+--------------------+----+"
      ]
     },
     "execution_count": 12,
     "metadata": {},
     "output_type": "execute_result"
    }
   ],
   "source": [
    "movie_data"
   ]
  },
  {
   "cell_type": "code",
   "execution_count": 13,
   "metadata": {},
   "outputs": [
    {
     "data": {
      "text/html": [
       "<table border='1'>\n",
       "<tr><th>cast</th><th>genres</th><th>title</th><th>year</th><th>number_of_genres</th></tr>\n",
       "<tr><td>[Kirk Alyn, Noel ...</td><td>[]</td><td>Superman</td><td>1948</td><td>0</td></tr>\n",
       "<tr><td>[Kirk Alyn, Lyle ...</td><td>[]</td><td>Atom Man vs. Supe...</td><td>1950</td><td>0</td></tr>\n",
       "<tr><td>[George Reeves, P...</td><td>[Action]</td><td>Superman and the ...</td><td>1951</td><td>1</td></tr>\n",
       "<tr><td>[George Reeves]</td><td>[Short]</td><td>Stamp Day for Sup...</td><td>1954</td><td>1</td></tr>\n",
       "<tr><td>[Marlon Brando, G...</td><td>[Superhero]</td><td>Superman</td><td>1978</td><td>1</td></tr>\n",
       "<tr><td>[Gene Hackman, Ch...</td><td>[Action, Adventure]</td><td>Superman II</td><td>1980</td><td>2</td></tr>\n",
       "<tr><td>[Christopher Reev...</td><td>[Action]</td><td>Superman III</td><td>1983</td><td>1</td></tr>\n",
       "<tr><td>[Christopher Reev...</td><td>[Superhero]</td><td>Superman IV: The ...</td><td>1987</td><td>1</td></tr>\n",
       "<tr><td>[Brandon Routh, K...</td><td>[Superhero]</td><td>Superman Returns</td><td>2006</td><td>1</td></tr>\n",
       "<tr><td>[The analyzation ...</td><td>[Documentary]</td><td>Waiting for Superman</td><td>2010</td><td>1</td></tr>\n",
       "<tr><td>[Matt Bomer, Stan...</td><td>[Animated, Superh...</td><td>Superman: Unbound</td><td>2013</td><td>2</td></tr>\n",
       "<tr><td>[Henry Cavill, Be...</td><td>[Action]</td><td>Batman v Superman...</td><td>2016</td><td>1</td></tr>\n",
       "</table>\n"
      ],
      "text/plain": [
       "+--------------------+--------------------+--------------------+----+----------------+\n",
       "|                cast|              genres|               title|year|number_of_genres|\n",
       "+--------------------+--------------------+--------------------+----+----------------+\n",
       "|[Kirk Alyn, Noel ...|                  []|            Superman|1948|               0|\n",
       "|[Kirk Alyn, Lyle ...|                  []|Atom Man vs. Supe...|1950|               0|\n",
       "|[George Reeves, P...|            [Action]|Superman and the ...|1951|               1|\n",
       "|     [George Reeves]|             [Short]|Stamp Day for Sup...|1954|               1|\n",
       "|[Marlon Brando, G...|         [Superhero]|            Superman|1978|               1|\n",
       "|[Gene Hackman, Ch...| [Action, Adventure]|         Superman II|1980|               2|\n",
       "|[Christopher Reev...|            [Action]|        Superman III|1983|               1|\n",
       "|[Christopher Reev...|         [Superhero]|Superman IV: The ...|1987|               1|\n",
       "|[Brandon Routh, K...|         [Superhero]|    Superman Returns|2006|               1|\n",
       "|[The analyzation ...|       [Documentary]|Waiting for Superman|2010|               1|\n",
       "|[Matt Bomer, Stan...|[Animated, Superh...|   Superman: Unbound|2013|               2|\n",
       "|[Henry Cavill, Be...|            [Action]|Batman v Superman...|2016|               1|\n",
       "+--------------------+--------------------+--------------------+----+----------------+"
      ]
     },
     "execution_count": 13,
     "metadata": {},
     "output_type": "execute_result"
    }
   ],
   "source": [
    "movie_data.select(\"*\", size(movie_data.genres).alias(\"number_of_genres\"))"
   ]
  }
 ],
 "metadata": {
  "kernelspec": {
   "display_name": "Python 3",
   "language": "python",
   "name": "python3"
  },
  "language_info": {
   "codemirror_mode": {
    "name": "ipython",
    "version": 3
   },
   "file_extension": ".py",
   "mimetype": "text/x-python",
   "name": "python",
   "nbconvert_exporter": "python",
   "pygments_lexer": "ipython3",
   "version": "3.8.3"
  }
 },
 "nbformat": 4,
 "nbformat_minor": 4
}
